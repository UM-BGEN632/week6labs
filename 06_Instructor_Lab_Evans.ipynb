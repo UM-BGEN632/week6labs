{
 "cells": [
  {
   "cell_type": "markdown",
   "id": "7a6182e2-59b3-425b-9e72-493e52dfc9c2",
   "metadata": {},
   "source": [
    "# Week 6 Instructor-led Lab: Magic Crystal Ball\n",
    "\n",
    "Author: Hali Evans    \n",
    "Course: BGEN632    \n",
    "Purpose: This assignment contains code (lists, nested loops, etc.) that will function similar to that of a Magic Crystal Ball. "
   ]
  },
  {
   "cell_type": "markdown",
   "id": "bef0b8a2-2086-4869-a777-6f4486da70b1",
   "metadata": {},
   "source": [
    "## Import Modules"
   ]
  },
  {
   "cell_type": "code",
   "execution_count": 4,
   "id": "89bff59b-f507-4bbc-9a55-c5410b153990",
   "metadata": {},
   "outputs": [],
   "source": [
    "import random as rand"
   ]
  },
  {
   "cell_type": "markdown",
   "id": "837954a0-02b9-4baf-a5ea-1f6f71a3d158",
   "metadata": {},
   "source": [
    "## Create Variables"
   ]
  },
  {
   "cell_type": "code",
   "execution_count": 6,
   "id": "d4287c55-49b9-4fb9-a902-1005651d7706",
   "metadata": {},
   "outputs": [],
   "source": [
    "# List of fortune responses\n",
    "fortune_responses = [\"It is certain\",\n",
    "                     \"It is decidedly so\", \n",
    "                     \"That question requires greater monetary compensation\",\n",
    "                     \"Reply is hazy; try again, with more money\",\n",
    "                     \"Concentrate and ask again\",\n",
    "                     \"My reply is no\",\n",
    "                     \"Outlook is not so good\",\n",
    "                     \"Very doubtful\", \n",
    "                     \"That's a negative, Ghost Rider\", \n",
    "                     \"That's affirmative\",\n",
    "                     \"Say again\"]\n",
    "\n",
    "questions_asked = False # tracks questions being asked\n",
    "service_cost = 0.0 # tracks service cost\n",
    "\n",
    "questions = [] # questions asked by customer\n",
    "responses = [] # responses provided to customer"
   ]
  },
  {
   "cell_type": "markdown",
   "id": "2958e13a-cf3a-4eaa-95c1-5ac83f29e5de",
   "metadata": {},
   "source": [
    "## User Options Available"
   ]
  },
  {
   "cell_type": "code",
   "execution_count": 8,
   "id": "a267bd86-799e-4d1f-b7ca-e7bd4fcc2edb",
   "metadata": {},
   "outputs": [
    {
     "name": "stdout",
     "output_type": "stream",
     "text": [
      "\n",
      "Welcome to the all-seeing computer!\n",
      "\n",
      "Here are the available options to choose from:\n",
      "1. Ask a question\n",
      "2. Review questions and responses\n",
      "3. Complete services and pay\n",
      "\n"
     ]
    }
   ],
   "source": [
    "# Displays Magic Crystal Ball information\n",
    "print(\"\\nWelcome to the all-seeing computer!\\n\")\n",
    "print(\"Here are the available options to choose from:\")\n",
    "print(\"1. Ask a question\")\n",
    "print(\"2. Review questions and responses\")\n",
    "print(\"3. Complete services and pay\\n\")"
   ]
  },
  {
   "cell_type": "markdown",
   "id": "820046e6-5b55-4965-bff7-907a12547a66",
   "metadata": {},
   "source": [
    "## Create Nested Loop"
   ]
  },
  {
   "cell_type": "code",
   "execution_count": 10,
   "id": "5128afe9-a2e2-4586-b4af-dfce959d5400",
   "metadata": {},
   "outputs": [
    {
     "name": "stdin",
     "output_type": "stream",
     "text": [
      "\n",
      "Please select option: \n",
      " 2\n"
     ]
    },
    {
     "name": "stdout",
     "output_type": "stream",
     "text": [
      "\n",
      "Please ask a question first.\n"
     ]
    },
    {
     "name": "stdin",
     "output_type": "stream",
     "text": [
      "\n",
      "Please select option: \n",
      " 1\n"
     ]
    },
    {
     "name": "stdout",
     "output_type": "stream",
     "text": [
      "\n",
      "Ask a question\n"
     ]
    },
    {
     "name": "stdin",
     "output_type": "stream",
     "text": [
      "\n",
      "Ask what you seek to know...\n",
      " Is Maverick the best character in Top Gun movie?\n"
     ]
    },
    {
     "name": "stdout",
     "output_type": "stream",
     "text": [
      "My reply is no\n"
     ]
    },
    {
     "name": "stdin",
     "output_type": "stream",
     "text": [
      "\n",
      "Please select option: \n",
      " 1\n"
     ]
    },
    {
     "name": "stdout",
     "output_type": "stream",
     "text": [
      "\n",
      "Ask another question\n"
     ]
    },
    {
     "name": "stdin",
     "output_type": "stream",
     "text": [
      "\n",
      "Ask what you seek to know...\n",
      " Is Goose the best character in Top Gun movie?\n"
     ]
    },
    {
     "name": "stdout",
     "output_type": "stream",
     "text": [
      "Say again\n"
     ]
    },
    {
     "name": "stdin",
     "output_type": "stream",
     "text": [
      "\n",
      "Please select option: \n",
      " 1\n"
     ]
    },
    {
     "name": "stdout",
     "output_type": "stream",
     "text": [
      "\n",
      "Ask another question\n"
     ]
    },
    {
     "name": "stdin",
     "output_type": "stream",
     "text": [
      "\n",
      "Ask what you seek to know...\n",
      " Is Goose the best character in Top Gun movie?\n"
     ]
    },
    {
     "name": "stdout",
     "output_type": "stream",
     "text": [
      "Outlook is not so good\n"
     ]
    },
    {
     "name": "stdin",
     "output_type": "stream",
     "text": [
      "\n",
      "Please select option: \n",
      " 5\n"
     ]
    },
    {
     "name": "stdout",
     "output_type": "stream",
     "text": [
      "\n",
      "This is not an option. Please try again\n"
     ]
    },
    {
     "name": "stdin",
     "output_type": "stream",
     "text": [
      "\n",
      "Please select option: \n",
      " 1\n"
     ]
    },
    {
     "name": "stdout",
     "output_type": "stream",
     "text": [
      "\n",
      "Ask another question\n"
     ]
    },
    {
     "name": "stdin",
     "output_type": "stream",
     "text": [
      "\n",
      "Ask what you seek to know...\n",
      " Is the remake of the Top Gun movie better than the original?\n"
     ]
    },
    {
     "name": "stdout",
     "output_type": "stream",
     "text": [
      "It is certain\n"
     ]
    },
    {
     "name": "stdin",
     "output_type": "stream",
     "text": [
      "\n",
      "Please select option: \n",
      " 2\n"
     ]
    },
    {
     "name": "stdout",
     "output_type": "stream",
     "text": [
      "\n",
      "Question: \"Is Maverick the best character in Top Gun movie?\"\n",
      "\n",
      "\n",
      "Response: \"My reply is no\"\n",
      "\n",
      "\n",
      "Question: \"Is Goose the best character in Top Gun movie?\"\n",
      "\n",
      "\n",
      "Response: \"Say again\"\n",
      "\n",
      "\n",
      "Question: \"Is Goose the best character in Top Gun movie?\"\n",
      "\n",
      "\n",
      "Response: \"Outlook is not so good\"\n",
      "\n",
      "\n",
      "Question: \"Is the remake of the Top Gun movie better than the original?\"\n",
      "\n",
      "\n",
      "Response: \"It is certain\"\n",
      "\n"
     ]
    },
    {
     "name": "stdin",
     "output_type": "stream",
     "text": [
      "\n",
      "Please select option: \n",
      " 2\n"
     ]
    },
    {
     "name": "stdout",
     "output_type": "stream",
     "text": [
      "\n",
      "Question: \"Is Maverick the best character in Top Gun movie?\"\n",
      "\n",
      "\n",
      "Response: \"My reply is no\"\n",
      "\n",
      "\n",
      "Question: \"Is Goose the best character in Top Gun movie?\"\n",
      "\n",
      "\n",
      "Response: \"Say again\"\n",
      "\n",
      "\n",
      "Question: \"Is Goose the best character in Top Gun movie?\"\n",
      "\n",
      "\n",
      "Response: \"Outlook is not so good\"\n",
      "\n",
      "\n",
      "Question: \"Is the remake of the Top Gun movie better than the original?\"\n",
      "\n",
      "\n",
      "Response: \"It is certain\"\n",
      "\n"
     ]
    },
    {
     "name": "stdin",
     "output_type": "stream",
     "text": [
      "\n",
      "Please select option: \n",
      " 3\n"
     ]
    },
    {
     "name": "stdout",
     "output_type": "stream",
     "text": [
      "\n",
      "Thank you for visiting the all-seeing computer.\n",
      "\n",
      "You asked 4 questions. You owe $120.0\n"
     ]
    }
   ],
   "source": [
    "while True:\n",
    "    user_input = input(\"\\nPlease select option: \\n\") #User Prompt\n",
    "        \n",
    "    if user_input == \"1\": \n",
    "        if not questions_asked:\n",
    "            print(\"\\nAsk a question\")\n",
    "        else:\n",
    "            print(\"\\nAsk another question\")\n",
    "            \n",
    "        question = input(\"\\nAsk what you seek to know...\\n\") # Question Prompt associated with question variable\n",
    "        questions.append(question) # Adds questions to list\n",
    "        response = rand.choice(fortune_responses) # Random generation stored as response.\n",
    "        responses.append(response) #Adds responses to list\n",
    "        print(response) # Displays response\n",
    "        questions_asked = True # Sets Boolean\n",
    "        service_cost += 30.00 # Sets Cost of question\n",
    "        \n",
    "    elif user_input == \"2\":\n",
    "        if not questions:\n",
    "            print(\"\\nPlease ask a question first.\") # Displays so user understands there is nothing to show.\n",
    "        else:\n",
    "            for i in range(len(questions)): # Starts loop\n",
    "                print(f\"\\nQuestion: \\\"{questions[i]}\\\"\\n\") # Displays questions\n",
    "                print(f\"\\nResponse: \\\"{responses[i]}\\\"\\n\") # Displays responses\n",
    "                \n",
    "    elif user_input == \"3\":\n",
    "        print(\"\\nThank you for visiting the all-seeing computer.\") # Displays closing message\n",
    "        print(f\"\\nYou asked {len(questions)} questions. You owe ${service_cost}\") \n",
    "        break\n",
    "    \n",
    "    else: print(\"\\nThis is not an option. Please try again\")\n",
    "    "
   ]
  }
 ],
 "metadata": {
  "kernelspec": {
   "display_name": "Python [conda env:base] *",
   "language": "python",
   "name": "conda-base-py"
  },
  "language_info": {
   "codemirror_mode": {
    "name": "ipython",
    "version": 3
   },
   "file_extension": ".py",
   "mimetype": "text/x-python",
   "name": "python",
   "nbconvert_exporter": "python",
   "pygments_lexer": "ipython3",
   "version": "3.12.7"
  }
 },
 "nbformat": 4,
 "nbformat_minor": 5
}
