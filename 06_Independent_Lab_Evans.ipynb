{
 "cells": [
  {
   "cell_type": "markdown",
   "id": "412c337e-13b4-4ee7-a756-2ead3780cbb5",
   "metadata": {},
   "source": [
    "# Week 6 Independent Lab: Student Management System    \n",
    "\n",
    "Author: Hali Evans    \n",
    "Course: BGEN632    \n",
    "Purpose: This assignment contains code (collections) that will be used to add students, view records, and assign designations."
   ]
  },
  {
   "cell_type": "markdown",
   "id": "45e0196c-b4e8-4103-9e2c-b8320c5279f3",
   "metadata": {},
   "source": [
    "## Create Variable Lists"
   ]
  },
  {
   "cell_type": "code",
   "execution_count": 4,
   "id": "a88ad8ed-cf0d-49a9-aaf7-26448e944eb8",
   "metadata": {},
   "outputs": [],
   "source": [
    "first_names = [\"Carmen\", \"Sydney\", \"Neil\", \"Marcus\"]\n",
    "last_names = [\"Berzatto\", \"Adamu\", \"Fak\", \"Brooks\"]\n",
    "majors = [\"Psychology\", \"Anthropology\", \"Accounting\", \"Physics\"]\n",
    "gpas = [3.7, 3.1, 3.3, 2.5]\n",
    "current_violations = [\"None\", \"None\", \"None\", \"None\"]\n",
    "academic_violations = [\"Distributing Exam Content\", \n",
    "                       \"Unauthorized Collaboration\",\n",
    "                       \"Copying\", \n",
    "                       \"Plagiarism\",\n",
    "                       \"Self-Plagiarism\"]\n",
    "\n",
    "students_added = False # Tracks Students"
   ]
  },
  {
   "cell_type": "markdown",
   "id": "c9395a70-1ed4-42c2-98ef-195230276bb8",
   "metadata": {},
   "source": [
    "## System Options Available"
   ]
  },
  {
   "cell_type": "code",
   "execution_count": 6,
   "id": "1f246882-c55b-4a19-a9d5-8dcc23c32af9",
   "metadata": {},
   "outputs": [
    {
     "name": "stdout",
     "output_type": "stream",
     "text": [
      "\n",
      "Welcome to the Student Management System!\n",
      "\n",
      "Here are the available options to choose from: \n",
      "1. Display Student Records\n",
      "2. Add a New Student\n",
      "3. Query GPA\n",
      "4. Add Academic Violation to Student Record\n",
      "5. Quit Program\n",
      "\n"
     ]
    }
   ],
   "source": [
    "# Displays System Options\n",
    "print(\"\\nWelcome to the Student Management System!\\n\")\n",
    "print(\"Here are the available options to choose from: \")\n",
    "print(\"1. Display Student Records\")\n",
    "print(\"2. Add a New Student\")\n",
    "print(\"3. Query GPA\")\n",
    "print(\"4. Add Academic Violation to Student Record\")\n",
    "print(\"5. Quit Program\\n\")"
   ]
  },
  {
   "cell_type": "markdown",
   "id": "5372c509-3dc1-4e84-98d4-cf65871a5fb9",
   "metadata": {},
   "source": [
    "## Create Loop"
   ]
  },
  {
   "cell_type": "code",
   "execution_count": 8,
   "id": "099b2afc-6017-459c-bc5d-3c3115994450",
   "metadata": {},
   "outputs": [
    {
     "name": "stdin",
     "output_type": "stream",
     "text": [
      "\n",
      "Please select an option: \n",
      " 3\n"
     ]
    },
    {
     "name": "stdout",
     "output_type": "stream",
     "text": [
      "\n",
      "GPA Query Results:\n",
      "\n",
      "Max GPA: 3.7\n",
      "Min GPA: 2.5\n",
      "Average GPA: 3.1\n"
     ]
    },
    {
     "name": "stdin",
     "output_type": "stream",
     "text": [
      "\n",
      "Please select an option: \n",
      " 9\n"
     ]
    },
    {
     "name": "stdout",
     "output_type": "stream",
     "text": [
      "\n",
      "This is not a valid option. Please try again.\n"
     ]
    },
    {
     "name": "stdin",
     "output_type": "stream",
     "text": [
      "\n",
      "Please select an option: \n",
      " 2\n"
     ]
    },
    {
     "name": "stdout",
     "output_type": "stream",
     "text": [
      "\n",
      "Enter New Student Record:\n",
      "\n"
     ]
    },
    {
     "name": "stdin",
     "output_type": "stream",
     "text": [
      "Enter First Name:  Hali\n",
      "Enter Last Name:  Evans\n",
      "Enter Major:  Business Analytics\n",
      "Enter GPA (0.0 - 4.0):  3.8\n"
     ]
    },
    {
     "name": "stdout",
     "output_type": "stream",
     "text": [
      "\n",
      "Hali Evans has been added as a new student.\n"
     ]
    },
    {
     "name": "stdin",
     "output_type": "stream",
     "text": [
      "\n",
      "Please select an option: \n",
      " 2\n"
     ]
    },
    {
     "name": "stdout",
     "output_type": "stream",
     "text": [
      "\n",
      "Enter New Student Record:\n",
      "\n"
     ]
    },
    {
     "name": "stdin",
     "output_type": "stream",
     "text": [
      "Enter First Name:  Maverick\n",
      "Enter Last Name:  Mitchell\n",
      "Enter Major:  Aviation\n",
      "Enter GPA (0.0 - 4.0):  4.0\n"
     ]
    },
    {
     "name": "stdout",
     "output_type": "stream",
     "text": [
      "\n",
      "Maverick Mitchell has been added as a new student.\n"
     ]
    },
    {
     "name": "stdin",
     "output_type": "stream",
     "text": [
      "\n",
      "Please select an option: \n",
      " 3\n"
     ]
    },
    {
     "name": "stdout",
     "output_type": "stream",
     "text": [
      "\n",
      "GPA Query Results:\n",
      "\n",
      "Max GPA: 4.0\n",
      "Min GPA: 2.5\n",
      "Average GPA: 3.4\n"
     ]
    },
    {
     "name": "stdin",
     "output_type": "stream",
     "text": [
      "\n",
      "Please select an option: \n",
      " 4\n"
     ]
    },
    {
     "name": "stdout",
     "output_type": "stream",
     "text": [
      "\n",
      "Enter Academic Violation:\n",
      "\n",
      "Current students:\n",
      "1. Carmen Berzatto\n",
      "2. Sydney Adamu\n",
      "3. Neil Fak\n",
      "4. Marcus Brooks\n",
      "5. Hali Evans\n",
      "6. Maverick Mitchell\n"
     ]
    },
    {
     "name": "stdin",
     "output_type": "stream",
     "text": [
      "\n",
      "Enter Student Number:  10\n"
     ]
    },
    {
     "name": "stdout",
     "output_type": "stream",
     "text": [
      "\n",
      "Please enter a number from the list.\n",
      "\n",
      "Current students:\n",
      "1. Carmen Berzatto\n",
      "2. Sydney Adamu\n",
      "3. Neil Fak\n",
      "4. Marcus Brooks\n",
      "5. Hali Evans\n",
      "6. Maverick Mitchell\n"
     ]
    },
    {
     "name": "stdin",
     "output_type": "stream",
     "text": [
      "\n",
      "Enter Student Number:  6\n"
     ]
    },
    {
     "name": "stdout",
     "output_type": "stream",
     "text": [
      "\n",
      "Select violation:\n",
      "1. Distributing Exam Content\n",
      "2. Unauthorized Collaboration\n",
      "3. Copying\n",
      "4. Plagiarism\n",
      "5. Self-Plagiarism\n"
     ]
    },
    {
     "name": "stdin",
     "output_type": "stream",
     "text": [
      "\n",
      "Enter Violation Number:  10\n"
     ]
    },
    {
     "name": "stdout",
     "output_type": "stream",
     "text": [
      "\n",
      "Please enter a number from the list.\n"
     ]
    },
    {
     "name": "stdin",
     "output_type": "stream",
     "text": [
      "\n",
      "Enter Violation Number:  1\n"
     ]
    },
    {
     "name": "stdout",
     "output_type": "stream",
     "text": [
      "Distributing Exam Content has been added to Maverick Mitchell record.\n"
     ]
    },
    {
     "name": "stdin",
     "output_type": "stream",
     "text": [
      "\n",
      "Please select an option: \n",
      " 4\n"
     ]
    },
    {
     "name": "stdout",
     "output_type": "stream",
     "text": [
      "\n",
      "Enter Academic Violation:\n",
      "\n",
      "Current students:\n",
      "1. Carmen Berzatto\n",
      "2. Sydney Adamu\n",
      "3. Neil Fak\n",
      "4. Marcus Brooks\n",
      "5. Hali Evans\n",
      "6. Maverick Mitchell\n"
     ]
    },
    {
     "name": "stdin",
     "output_type": "stream",
     "text": [
      "\n",
      "Enter Student Number:  1\n"
     ]
    },
    {
     "name": "stdout",
     "output_type": "stream",
     "text": [
      "\n",
      "Select violation:\n",
      "1. Distributing Exam Content\n",
      "2. Unauthorized Collaboration\n",
      "3. Copying\n",
      "4. Plagiarism\n",
      "5. Self-Plagiarism\n"
     ]
    },
    {
     "name": "stdin",
     "output_type": "stream",
     "text": [
      "\n",
      "Enter Violation Number:  4\n"
     ]
    },
    {
     "name": "stdout",
     "output_type": "stream",
     "text": [
      "Plagiarism has been added to Carmen Berzatto record.\n"
     ]
    },
    {
     "name": "stdin",
     "output_type": "stream",
     "text": [
      "\n",
      "Please select an option: \n",
      " 1\n"
     ]
    },
    {
     "name": "stdout",
     "output_type": "stream",
     "text": [
      "\n",
      "Student Records: \n",
      "\n",
      "First Name: Carmen\n",
      "Last Name: Berzatto\n",
      "Major: Psychology\n",
      "GPA: 3.7\n",
      "Violation: Plagiarism\n",
      "\n",
      "First Name: Sydney\n",
      "Last Name: Adamu\n",
      "Major: Anthropology\n",
      "GPA: 3.1\n",
      "Violation: None\n",
      "\n",
      "First Name: Neil\n",
      "Last Name: Fak\n",
      "Major: Accounting\n",
      "GPA: 3.3\n",
      "Violation: None\n",
      "\n",
      "First Name: Marcus\n",
      "Last Name: Brooks\n",
      "Major: Physics\n",
      "GPA: 2.5\n",
      "Violation: None\n",
      "\n",
      "First Name: Hali\n",
      "Last Name: Evans\n",
      "Major: Business Analytics\n",
      "GPA: 3.8\n",
      "Violation: None\n",
      "\n",
      "First Name: Maverick\n",
      "Last Name: Mitchell\n",
      "Major: Aviation\n",
      "GPA: 4.0\n",
      "Violation: Distributing Exam Content\n"
     ]
    },
    {
     "name": "stdin",
     "output_type": "stream",
     "text": [
      "\n",
      "Please select an option: \n",
      " 5\n"
     ]
    },
    {
     "name": "stdout",
     "output_type": "stream",
     "text": [
      "\n",
      "Thank you for using the Student Management System!\n"
     ]
    }
   ],
   "source": [
    "while True:\n",
    "    user_input = input(\"\\nPlease select an option: \\n\")\n",
    "\n",
    "    # Display Student Records\n",
    "    if user_input == \"1\":\n",
    "        print(\"\\nStudent Records: \")\n",
    "        for i in range(len(first_names)):\n",
    "            print(f\"\\nFirst Name: {first_names[i]}\"\n",
    "                  f\"\\nLast Name: {last_names[i]}\"\n",
    "                  f\"\\nMajor: {majors[i]}\"\n",
    "                  f\"\\nGPA: {gpas[i]}\"\n",
    "                  f\"\\nViolation: {current_violations[i]}\")\n",
    "\n",
    "    # Add a New Student Record\n",
    "    elif user_input == \"2\":\n",
    "        print(\"\\nEnter New Student Record:\\n\")\n",
    "        first_name = input(\"Enter First Name: \")\n",
    "        last_name = input(\"Enter Last Name: \")\n",
    "        major = input(\"Enter Major: \")\n",
    "        gpa = float(input(\"Enter GPA (0.0 - 4.0): \"))\n",
    "        first_names.append(first_name)\n",
    "        last_names.append(last_name)\n",
    "        majors.append(major)\n",
    "        gpas.append(gpa)\n",
    "        current_violations.append(\"None\")\n",
    "        print(f\"\\n{first_name} {last_name} has been added as a new student.\")\n",
    "\n",
    "    # Display GPA Information\n",
    "    elif user_input == \"3\":\n",
    "        if not gpas:\n",
    "            print(\"No Students Records.\")\n",
    "        else:\n",
    "            max_gpa = max(gpas)\n",
    "            min_gpa = min(gpas)\n",
    "            avg_gpa = sum(gpas) / len(gpas)\n",
    "            print(f\"\\nGPA Query Results:\\n\"\n",
    "                  f\"\\nMax GPA: {max_gpa:.1f}\"\n",
    "                  f\"\\nMin GPA: {min_gpa:.1f}\"\n",
    "                  f\"\\nAverage GPA: {avg_gpa:.1f}\")\n",
    "\n",
    "    # Add a Violation to Student Record\n",
    "    elif user_input == \"4\":\n",
    "        print(\"\\nEnter Academic Violation:\")\n",
    "        if not first_names:\n",
    "            print(\"\\nPlease select student from list.\")\n",
    "        else:\n",
    "            # Add Inner Loop to Prevent Restarting at Beginning of Loop\n",
    "            while True:\n",
    "                print(\"\\nCurrent students:\")\n",
    "                for i in range(len(first_names)):\n",
    "                    print(f\"{i + 1}. {first_names[i]} {last_names[i]}\")\n",
    "\n",
    "                try:\n",
    "                    student_choice = int(input(\"\\nEnter Student Number: \")) - 1\n",
    "                    if 0 <= student_choice < len(first_names):\n",
    "                        student_index = student_choice\n",
    "                        first_name = first_names[student_index]\n",
    "                        last_name = last_names[student_index]\n",
    "\n",
    "                        if current_violations[student_index] != \"None\":\n",
    "                            print(f\"\\n{first_name} {last_name} current violation on record: {current_violations[student_index]}\")\n",
    "                        else:\n",
    "                            print(\"\\nSelect violation:\")\n",
    "                            for i in range(len(academic_violations)):\n",
    "                                print(f\"{i + 1}. {academic_violations[i]}\")\n",
    "\n",
    "                            while True: # Add another Inner Violation Loop to Prevent Restarting (AKA Helps with frustration!)\n",
    "                                try:\n",
    "                                    violation_num = int(input(\"\\nEnter Violation Number: \")) - 1\n",
    "                                    if 0 <= violation_num < len(academic_violations):\n",
    "                                        current_violations[student_index] = academic_violations[violation_num]\n",
    "                                        print(f\"{academic_violations[violation_num]} has been added to {first_names[student_index]} {last_names[student_index]} record.\")\n",
    "                                        break  # Break Inner Violation Loop\n",
    "                                    else:\n",
    "                                        print(\"\\nPlease enter a number from the list.\")\n",
    "                                except ValueError:\n",
    "                                    print(\"\\nPlease enter a number from the list.\")\n",
    "                            break # Break Student Loop\n",
    "                        break # Break Student Loop\n",
    "\n",
    "                    else:\n",
    "                        print(\"\\nPlease enter a number from the list.\")\n",
    "                except ValueError:\n",
    "                    print(\"\\nPlease enter a number from the list.\")\n",
    "\n",
    "    # Exit Program\n",
    "    elif user_input == \"5\":\n",
    "        print(\"\\nThank you for using the Student Management System!\")\n",
    "        break\n",
    "\n",
    "    # Incorrect Option Selected\n",
    "    else:\n",
    "        print(\"\\nThis is not a valid option. Please try again.\")"
   ]
  }
 ],
 "metadata": {
  "kernelspec": {
   "display_name": "Python [conda env:base] *",
   "language": "python",
   "name": "conda-base-py"
  },
  "language_info": {
   "codemirror_mode": {
    "name": "ipython",
    "version": 3
   },
   "file_extension": ".py",
   "mimetype": "text/x-python",
   "name": "python",
   "nbconvert_exporter": "python",
   "pygments_lexer": "ipython3",
   "version": "3.12.7"
  }
 },
 "nbformat": 4,
 "nbformat_minor": 5
}
